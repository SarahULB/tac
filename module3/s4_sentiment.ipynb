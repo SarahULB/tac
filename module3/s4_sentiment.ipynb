{
 "metadata": {
  "language_info": {
   "codemirror_mode": {
    "name": "ipython",
    "version": 3
   },
   "file_extension": ".py",
   "mimetype": "text/x-python",
   "name": "python",
   "nbconvert_exporter": "python",
   "pygments_lexer": "ipython3",
   "version": "3.7.7-final"
  },
  "orig_nbformat": 2,
  "kernelspec": {
   "name": "Python 3.7.7 64-bit ('venv': venv)",
   "display_name": "Python 3.7.7 64-bit ('venv': venv)",
   "metadata": {
    "interpreter": {
     "hash": "ed2973e18a45e46195aea83f71ebc09fe8d3266afb265a31fa421a956b7d8fb0"
    }
   }
  }
 },
 "nbformat": 4,
 "nbformat_minor": 2,
 "cells": [
  {
   "source": [
    "# Sentiment analysis with Textblob-FR"
   ],
   "cell_type": "markdown",
   "metadata": {}
  },
  {
   "cell_type": "code",
   "execution_count": null,
   "metadata": {},
   "outputs": [],
   "source": [
    "import sys\n",
    "\n",
    "from textblob import Blobber\n",
    "from textblob_fr import PatternTagger, PatternAnalyzer"
   ]
  },
  {
   "source": [
    "## Fonction"
   ],
   "cell_type": "markdown",
   "metadata": {}
  },
  {
   "cell_type": "code",
   "execution_count": null,
   "metadata": {},
   "outputs": [],
   "source": [
    "tb = Blobber(pos_tagger=PatternTagger(), analyzer=PatternAnalyzer())\n",
    "\n",
    "def get_sentiment(input_text):\n",
    "    blob = tb(input_text)\n",
    "    pola, subj = blob.sentiment\n",
    "    perc = f\"{100*abs(pola):.0f}\"\n",
    "    if pola > 0:\n",
    "        sent = f\"{perc}% positive\"\n",
    "    elif pola < 0:\n",
    "        sent = f\"{perc}% negative\"\n",
    "    else:\n",
    "        sent = \"neutral\"\n",
    "    if subj > 0:\n",
    "        fact = f\"{100*subj:.0f}% subjective\"\n",
    "    else:\n",
    "        fact = \"perfectly objective\"\n",
    "    print(f\"This text is {sent} and {fact}.\")"
   ]
  },
  {
   "source": [
    "## Analyser le sentiment d'une phrase"
   ],
   "cell_type": "markdown",
   "metadata": {}
  },
  {
   "cell_type": "code",
   "execution_count": null,
   "metadata": {
    "tags": []
   },
   "outputs": [],
   "source": [
get_sentiment("Je crois qu’il est impossible de scinder le débat")
get_sentiment("Le conseil se constitue immédiatement en comité secret")
get_sentiment("L'agglomération bruxelloise formera toujours une seule ville avec des intérêts communs et des aspirations identiques")

get_sentiment("Les crédits prévus au budget de 1879 étant épuisés, le Collège, d'accord avec la Section des finances, a l'honneur, Messieurs, de proposer au Conseil de voler sur les ressources extraordinaires de l'exercice courant une allocation de 2,700 francs pour le paiement des dites indemnités")
get_sentiment("J'y consens volontiers. Je ne demande qu'une chose, c'est que la question soit étudiée")
get_sentiment("Je crois que l'on a tort de les prévenir")
get_sentiment("Je demanderai au Collège comment il compte faire face à une dépense ordinaire aussi considérable, aucun chiffre n'ayant été porté au budget communal")
get_sentiment("Dans les écoles officielles, la distribution du temps, les livres de classes sont approuvés par les autorités compétentes, par l'autorité communale et l'autorité supérieure")
get_sentiment("S'il y a du vrai dans ce qu'a dit M . Allard, cela tient en grande partie aux mutations nombreuses qui se font dans le personnel")
get_sentiment("Tout d'abord, j'ai la satisfaction d'annoncer au Conseil communal que la Société chora")
   ]
  },
  {
   "cell_type": "code",
   "execution_count": null,
   "metadata": {
    "tags": []
   },
   "outputs": [],
   "source": [
    "get_sentiment(\"Cette phrase est négative et je ne suis pas content !\")"
   ]
  },
  {
   "cell_type": "code",
   "execution_count": null,
   "metadata": {},
   "outputs": [],
   "source": []
  }
 ]
}
