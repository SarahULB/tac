{
 "metadata": {
  "language_info": {
   "codemirror_mode": {
    "name": "ipython",
    "version": 3
   },
   "file_extension": ".py",
   "mimetype": "text/x-python",
   "name": "python",
   "nbconvert_exporter": "python",
   "pygments_lexer": "ipython3",
   "version": "3.8.6-final"
  },
  "orig_nbformat": 2,
  "kernelspec": {
   "name": "python3",
   "display_name": "Python 3.8.6 64-bit ('venv')",
   "metadata": {
    "interpreter": {
     "hash": "16056a445c4a3bfe5a821cc041b908ffda7a03ceb261a08f1b5995b9b0cdcffd"
    }
   }
  }
 },
 "nbformat": 4,
 "nbformat_minor": 2,
 "cells": [
  {
   "cell_type": "code",
   "execution_count": 2,
   "metadata": {},
   "outputs": [],
   "source": [
    "import collections\n",
    "import os\n",
    "import string\n",
    "import sys\n",
    "\n",
    "import pandas as pd\n",
    "from nltk import word_tokenize\n",
    "from nltk.corpus import stopwords\n",
    "from pprint import pprint\n",
    "from sklearn.cluster import KMeans\n",
    "from sklearn.feature_extraction.text import TfidfVectorizer"
   ]
  },
  {
   "cell_type": "code",
   "execution_count": 3,
   "metadata": {},
   "outputs": [
    {
     "output_type": "stream",
     "name": "stderr",
     "text": [
      "[nltk_data] Downloading package punkt to\n",
      "[nltk_data]     C:\\Users\\Calle\\AppData\\Roaming\\nltk_data...\n",
      "[nltk_data]   Package punkt is already up-to-date!\n"
     ]
    },
    {
     "output_type": "execute_result",
     "data": {
      "text/plain": [
       "True"
      ]
     },
     "metadata": {},
     "execution_count": 3
    }
   ],
   "source": [
    "import nltk\n",
    "\n",
    "nltk.download('punkt')"
   ]
  },
  {
   "cell_type": "code",
   "execution_count": 4,
   "metadata": {},
   "outputs": [],
   "source": [
    "data_path = \"../data/txt/\""
   ]
  },
  {
   "source": [
    "# Choix d'une décennie et du nombre de clusters"
   ],
   "cell_type": "markdown",
   "metadata": {}
  },
  {
   "cell_type": "code",
   "execution_count": 59,
   "metadata": {},
   "outputs": [],
   "source": [
    "DECADE = '1910'\n",
    "N_CLUSTERS = 7"
   ]
  },
  {
   "source": [
    "# Chargement des fichiers de la décennie"
   ],
   "cell_type": "markdown",
   "metadata": {}
  },
  {
   "cell_type": "code",
   "execution_count": 54,
   "metadata": {},
   "outputs": [],
   "source": [
    "files = [f for f in sorted(os.listdir(data_path)) if f\"_{DECADE[:-1]}\" in f]"
   ]
  },
  {
   "cell_type": "code",
   "execution_count": 49,
   "metadata": {},
   "outputs": [
    {
     "output_type": "execute_result",
     "data": {
      "text/plain": [
       ['Bxl_1910_Tome_I1_Part_1.txt',
 'Bxl_1910_Tome_I1_Part_2.txt',
 'Bxl_1910_Tome_I1_Part_3.txt',
 'Bxl_1910_Tome_I1_Part_4.txt',
 'Bxl_1910_Tome_I1_Part_5.txt',
 'Bxl_1910_Tome_I1_Part_6.txt',
 'Bxl_1910_Tome_I1_Part_7.txt',
 'Bxl_1910_Tome_I1_Part_8.txt',
 'Bxl_1910_Tome_I2_1_Part_1.txt',
 'Bxl_1910_Tome_I2_1_Part_10.txt',
 'Bxl_1910_Tome_I2_1_Part_11.txt',
 'Bxl_1910_Tome_I2_1_Part_12.txt',
 'Bxl_1910_Tome_I2_1_Part_13.txt',
 'Bxl_1910_Tome_I2_1_Part_2.txt',
 'Bxl_1910_Tome_I2_1_Part_3.txt',
 'Bxl_1910_Tome_I2_1_Part_4.txt',
 'Bxl_1910_Tome_I2_1_Part_5.txt',
 'Bxl_1910_Tome_I2_1_Part_6.txt',
 'Bxl_1910_Tome_I2_1_Part_7.txt',
 'Bxl_1910_Tome_I2_1_Part_8.txt',
 'Bxl_1910_Tome_I2_1_Part_9.txt',
 'Bxl_1910_Tome_I2_2_Part_1.txt',
 'Bxl_1910_Tome_I2_2_Part_10.txt',
 'Bxl_1910_Tome_I2_2_Part_11.txt',
 'Bxl_1910_Tome_I2_2_Part_12.txt',
 'Bxl_1910_Tome_I2_2_Part_2.txt',
 'Bxl_1910_Tome_I2_2_Part_3.txt',
 'Bxl_1910_Tome_I2_2_Part_4.txt',
 'Bxl_1910_Tome_I2_2_Part_5.txt',
 'Bxl_1910_Tome_I2_2_Part_6.txt',
 'Bxl_1910_Tome_I2_2_Part_7.txt',
 'Bxl_1910_Tome_I2_2_Part_8.txt',
 'Bxl_1910_Tome_I2_2_Part_9.txt',
 'Bxl_1910_Tome_II1_Part_1.txt',
 'Bxl_1910_Tome_II1_Part_2.txt',
 'Bxl_1910_Tome_II1_Part_3.txt',
 'Bxl_1911_Tome_I1_Part_1.txt',
 'Bxl_1911_Tome_I1_Part_10.txt',
 'Bxl_1911_Tome_I1_Part_11.txt',
 'Bxl_1911_Tome_I1_Part_12.txt']
      ]
     },
     "metadata": {},
     "execution_count": 49
    }
   ],
   "source": [
    "# Exemple de fichiers\n",
    "files[:40]"
   ]
  },
  {
   "cell_type": "code",
   "execution_count": 31,
   "metadata": {},
   "outputs": [],
   "source": [
    "texts = [open(data_path + f, encoding = 'utf-8').read() for f in files]"
   ]
  },
  {
   "cell_type": "code",
   "execution_count": 19,
   "metadata": {},
   "outputs": [
    {
     "output_type": "execute_result",
     "data": {
      "text/plain": [
       "\"COMPTE RENDU DE LA SÉANCE DU 27 JANVIER 1890.\\n\\nN° 1.\\n\\nVILLE DE BRUXELLES.\\n\\nBULLETIN C O M M U N A L\\nA N N É E\\n\\nCONSEIL\\n\\n1890.\\n\\nCOMMUNAL.\\n\\nSéance du 27 Janvier\\nPrésidence de M . JBULS,\\n\\n1890.\\nBourgmestre.\\n\\nSOMMAIRE :\\n\\n1. Concours musical pour le p r i x do Rome. — Lauréat. — Remise\\nd'un souvenir à M . Paul Gilson.\\n1A. Communications.\\n2. 25 anniversaire de l'inauguration de Léopold II. — Communicati\""
      ]
     },
     "metadata": {},
     "execution_count": 19
    }
   ],
   "source": [
    "# Exemple de textes\n",
    "texts[0][:400]"
   ]
  },
  {
   "source": [
    "# Vectorisation du texte"
   ],
   "cell_type": "markdown",
   "metadata": {}
  },
  {
   "cell_type": "code",
   "execution_count": 32,
   "metadata": {},
   "outputs": [],
   "source": [
    "def process_text(text, stem=True):\n",
    "    \"\"\" Tokenize text and remove punctuation \"\"\"\n",
    "    text = text.translate(string.punctuation)\n",
    "    tokens = word_tokenize(text)\n",
    "    return tokens"
   ]
  },
  {
   "cell_type": "code",
   "execution_count": 33,
   "metadata": {},
   "outputs": [],
   "source": [
    "vectorizer = TfidfVectorizer(tokenizer=process_text,\n",
    "                                stop_words=stopwords.words('french'),\n",
    "                                max_df=0.5,\n",
    "                                min_df=0.1,\n",
    "                                lowercase=True)"
   ]
  },
  {
   "cell_type": "code",
   "execution_count": 34,
   "metadata": {},
   "outputs": [
    {
     "output_type": "stream",
     "name": "stdout",
     "text": [
      "Wall time: 4min 28s\n"
     ]
    }
   ],
   "source": [
    "%time tfidf_vectors = vectorizer.fit_transform(texts)"
   ]
  },
  {
   "cell_type": "code",
   "execution_count": 35,
   "metadata": {},
   "outputs": [
    {
     "output_type": "execute_result",
     "data": {
      "text/plain": [
       "<245x7563 sparse matrix of type '<class 'numpy.float64'>'\n",
       "\twith 400722 stored elements in Compressed Sparse Row format>"
      ]
     },
     "metadata": {},
     "execution_count": 35
    }
   ],
   "source": [
    "tfidf_vectors"
   ]
  },
  {
   "cell_type": "code",
   "execution_count": 39,
   "metadata": {},
   "outputs": [
    {
     "output_type": "execute_result",
     "data": {
      "text/plain": [
       "compteur     0.349195\n",
       "compteurs    0.267369\n",
       "retenues     0.171238\n",
       "walravens    0.162293\n",
       "=            0.138324\n",
       "               ...   \n",
       "loueurs      0.000000\n",
       "louis        0.000000\n",
       "lourde       0.000000\n",
       "lourdes      0.000000\n",
       "inconnu      0.000000\n",
       "Length: 7563, dtype: float64"
      ]
     },
     "metadata": {},
     "execution_count": 39
    }
   ],
   "source": [
    "# Exemple de vecteur TFIDF\n",
    "pd.Series(\n",
    "    tfidf_vectors[0].toarray()[0],\n",
    "    index=vectorizer.get_feature_names()\n",
    "    ).sort_values(ascending=False)"
   ]
  },
  {
   "source": [
    "# Clustering des vecteurs TFIDF"
   ],
   "cell_type": "markdown",
   "metadata": {}
  },
  {
   "cell_type": "code",
   "execution_count": 60,
   "metadata": {},
   "outputs": [],
   "source": [
    "km_model = KMeans(n_clusters=N_CLUSTERS)"
   ]
  },
  {
   "cell_type": "code",
   "execution_count": 61,
   "metadata": {},
   "outputs": [
    {
     "output_type": "execute_result",
     "data": {
      "text/plain": [
       "KMeans(n_clusters=6)"
      ]
     },
     "metadata": {},
     "execution_count": 61
    }
   ],
   "source": [
    "km_model.fit(tfidf_vectors)"
   ]
  },
  {
   "cell_type": "code",
   "execution_count": 62,
   "metadata": {},
   "outputs": [],
   "source": [
    "clustering = collections.defaultdict(list)\n",
    "\n",
    "for idx, label in enumerate(km_model.labels_):\n",
    "    clustering[label].append(files[idx])"
   ]
  },
  {
   "cell_type": "code",
   "execution_count": 63,
   "metadata": {},
   "outputs": [
    {
     "output_type": "stream",
     "name": "stdout",
     "text": [
      "{0: ['Lkn_1890_Tome_I_Part_1.txt',\n     'Lkn_1890_Tome_I_Part_2.txt',\n     'Lkn_1890_Tome_I_Part_3.txt',\n     'Lkn_1890_Tome_I_Part_4.txt',\n     'Lkn_1890_Tome_I_Part_7.txt',\n     'Lkn_1891_Tome_I_Part_1.txt',\n     'Lkn_1891_Tome_I_Part_2.txt',\n     'Lkn_1891_Tome_I_Part_4.txt',\n     'Lkn_1891_Tome_I_Part_5.txt',\n     'Lkn_1892_Tome_I_Part_1.txt',\n     'Lkn_1892_Tome_I_Part_2.txt',\n     'Lkn_1892_Tome_I_Part_3.txt',\n     'Lkn_1892_Tome_I_Part_4.txt',\n     'Lkn_1892_Tome_I_Part_5.txt',\n     'Lkn_1893_Tome_I_Part_1.txt',\n     'Lkn_1893_Tome_I_Part_2.txt',\n     'Lkn_1893_Tome_I_Part_3.txt',\n     'Lkn_1893_Tome_I_Part_4.txt',\n     'Lkn_1893_Tome_I_Part_7.txt',\n     'Lkn_1894_Tome_I_Part_1.txt',\n     'Lkn_1894_Tome_I_Part_2.txt',\n     'Lkn_1894_Tome_I_Part_3.txt',\n     'Lkn_1894_Tome_I_Part_5.txt',\n     'Lkn_1894_Tome_I_Part_6.txt'],\n 1: ['Bxl_1896_Tome_I2_2_Part_3.txt',\n     'Bxl_1898_Tome_I1_Part_9.txt',\n     'Bxl_1899_Tome_I1_Part_1.txt',\n     'Bxl_1899_Tome_I1_Part_10.txt',\n     'Bxl_1899_Tome_I1_Part_2.txt',\n     'Bxl_1899_Tome_I1_Part_3.txt',\n     'Bxl_1899_Tome_I1_Part_4.txt',\n     'Bxl_1899_Tome_I1_Part_5.txt',\n     'Bxl_1899_Tome_I1_Part_6.txt',\n     'Bxl_1899_Tome_I1_Part_7.txt',\n     'Bxl_1899_Tome_I1_Part_8.txt',\n     'Bxl_1899_Tome_I2_Part_1.txt',\n     'Bxl_1899_Tome_I2_Part_11.txt',\n     'Bxl_1899_Tome_I2_Part_13.txt',\n     'Bxl_1899_Tome_I2_Part_3.txt',\n     'Bxl_1899_Tome_I2_Part_7.txt',\n     'Bxl_1899_Tome_I2_Part_8.txt',\n     'Bxl_1899_Tome_I2_Part_9.txt',\n     'Bxl_1899_Tome_II1_Part_1.txt',\n     'Bxl_1899_Tome_II1_Part_2.txt',\n     'Lkn_1899_Tome_RptAn_Part_4.txt'],\n 2: ['Bxl_1890_Tome_I1_Part_1.txt',\n     'Bxl_1890_Tome_I1_Part_2.txt',\n     'Bxl_1890_Tome_I1_Part_3.txt',\n     'Bxl_1890_Tome_I1_Part_4.txt',\n     'Bxl_1890_Tome_I1_Part_5.txt',\n     'Bxl_1890_Tome_I1_Part_6.txt',\n     'Bxl_1890_Tome_I1_Part_7.txt',\n     'Bxl_1890_Tome_I1_Part_8.txt',\n     'Bxl_1890_Tome_I2_Part_1.txt',\n     'Bxl_1890_Tome_I2_Part_10.txt',\n     'Bxl_1890_Tome_I2_Part_14.txt',\n     'Bxl_1890_Tome_I2_Part_2.txt',\n     'Bxl_1890_Tome_I2_Part_3.txt',\n     'Bxl_1890_Tome_I2_Part_6.txt',\n     'Bxl_1890_Tome_I2_Part_7.txt',\n     'Bxl_1890_Tome_I2_Part_8.txt',\n     'Bxl_1890_Tome_I2_Part_9.txt',\n     'Bxl_1891_Tome_I1_Part_1.txt',\n     'Bxl_1891_Tome_I1_Part_2.txt',\n     'Bxl_1891_Tome_I1_Part_3.txt',\n     'Bxl_1891_Tome_I1_Part_4.txt',\n     'Bxl_1891_Tome_I1_Part_5.txt',\n     'Bxl_1891_Tome_I1_Part_6.txt',\n     'Bxl_1891_Tome_I1_Part_7.txt',\n     'Bxl_1891_Tome_I1_Part_8.txt',\n     'Bxl_1891_Tome_I1_Part_9.txt',\n     'Bxl_1891_Tome_I2_Part_1.txt',\n     'Bxl_1891_Tome_I2_Part_10.txt',\n     'Bxl_1891_Tome_I2_Part_11.txt',\n     'Bxl_1891_Tome_I2_Part_12.txt',\n     'Bxl_1891_Tome_I2_Part_14.txt',\n     'Bxl_1891_Tome_I2_Part_2.txt',\n     'Bxl_1891_Tome_I2_Part_3.txt',\n     'Bxl_1891_Tome_I2_Part_4.txt',\n     'Bxl_1891_Tome_I2_Part_7.txt',\n     'Bxl_1891_Tome_I2_Part_8.txt',\n     'Bxl_1891_Tome_I2_Part_9.txt',\n     'Bxl_1892_Tome_I1_Part_1.txt',\n     'Bxl_1892_Tome_I1_Part_2.txt',\n     'Bxl_1892_Tome_I1_Part_3.txt',\n     'Bxl_1892_Tome_I1_Part_4.txt',\n     'Bxl_1892_Tome_I1_Part_5.txt',\n     'Bxl_1892_Tome_I1_Part_6.txt',\n     'Bxl_1892_Tome_I1_Part_7.txt',\n     'Bxl_1892_Tome_I2_Part_1.txt',\n     'Bxl_1892_Tome_I2_Part_12.txt',\n     'Bxl_1892_Tome_I2_Part_2.txt',\n     'Bxl_1892_Tome_I2_Part_3.txt',\n     'Bxl_1892_Tome_I2_Part_4.txt',\n     'Bxl_1892_Tome_I2_Part_7.txt',\n     'Bxl_1892_Tome_I2_Part_8.txt',\n     'Bxl_1892_Tome_I2_Part_9.txt',\n     'Bxl_1893_Tome_I1_Part_1.txt',\n     'Bxl_1893_Tome_I1_Part_2.txt',\n     'Bxl_1893_Tome_I1_Part_3.txt',\n     'Bxl_1893_Tome_I1_Part_4.txt',\n     'Bxl_1893_Tome_I1_Part_6.txt',\n     'Bxl_1893_Tome_II2_Part_1.txt',\n     'Bxl_1893_Tome_II2_Part_10.txt',\n     'Bxl_1893_Tome_II2_Part_2.txt',\n     'Bxl_1893_Tome_II2_Part_5.txt',\n     'Bxl_1893_Tome_II2_Part_6.txt',\n     'Bxl_1893_Tome_II2_Part_7.txt',\n     'Bxl_1893_Tome_II2_Part_8.txt',\n     'Bxl_1894_Tome_I1_Part_1.txt',\n     'Bxl_1894_Tome_I1_Part_2.txt',\n     'Bxl_1894_Tome_I1_Part_4.txt',\n     'Bxl_1894_Tome_I1_Part_5.txt',\n     'Bxl_1894_Tome_I1_Part_6.txt',\n     'Bxl_1894_Tome_I1_Part_7.txt',\n     'Bxl_1895_Tome_I1_Part_1.txt',\n     'Bxl_1895_Tome_I1_Part_2.txt',\n     'Bxl_1895_Tome_I1_Part_3.txt',\n     'Bxl_1895_Tome_I1_Part_4.txt',\n     'Bxl_1895_Tome_I1_Part_6.txt',\n     'Bxl_1895_Tome_I1_Part_7.txt',\n     'Bxl_1895_Tome_I1_Part_8.txt'],\n 3: ['Bxl_1890_Tome_I2_Part_11.txt',\n     'Bxl_1890_Tome_I2_Part_12.txt',\n     'Bxl_1890_Tome_I2_Part_13.txt',\n     'Bxl_1891_Tome_I2_Part_13.txt',\n     'Bxl_1892_Tome_I1_Part_8.txt',\n     'Bxl_1892_Tome_I1_Part_9.txt',\n     'Bxl_1892_Tome_I2_Part_10.txt',\n     'Bxl_1892_Tome_I2_Part_11.txt',\n     'Bxl_1893_Tome_I1_Part_5.txt',\n     'Bxl_1893_Tome_II2_Part_9.txt',\n     'Bxl_1894_Tome_I1_Part_3.txt',\n     'Bxl_1895_Tome_I1_Part_5.txt',\n     'Bxl_1896_Tome_I1_2_Part_4.txt',\n     'Bxl_1896_Tome_I2_2_Part_7.txt',\n     'Bxl_1896_Tome_I2_2_Part_8.txt',\n     'Bxl_1897_Tome_I2_Part_15.txt',\n     'Bxl_1897_Tome_I2_Part_16.txt',\n     'Bxl_1897_Tome_I2_Part_2.txt',\n     'Bxl_1897_Tome_I2_Part_3.txt',\n     'Bxl_1898_Tome_I1_Part_10.txt',\n     'Bxl_1898_Tome_I2_Part_2.txt',\n     'Bxl_1898_Tome_I2_Part_3.txt',\n     'Bxl_1899_Tome_I1_Part_9.txt',\n     'Bxl_1899_Tome_I2_Part_10.txt'],\n 4: ['Bxl_1890_Tome_I2_Part_4.txt',\n     'Bxl_1890_Tome_I2_Part_5.txt',\n     'Bxl_1891_Tome_I2_Part_5.txt',\n     'Bxl_1891_Tome_I2_Part_6.txt',\n     'Bxl_1892_Tome_I2_Part_5.txt',\n     'Bxl_1892_Tome_I2_Part_6.txt',\n     'Bxl_1893_Tome_I1_Part_7.txt',\n     'Bxl_1893_Tome_I1_Part_8.txt',\n     'Bxl_1893_Tome_II2_Part_3.txt',\n     'Bxl_1893_Tome_II2_Part_4.txt',\n     'Bxl_1896_Tome_I1_1_Part_6.txt',\n     'Bxl_1896_Tome_I2_1_Part_7.txt',\n     'Bxl_1896_Tome_I2_1_Part_8.txt',\n     'Bxl_1897_Tome_I2_Part_7.txt',\n     'Bxl_1897_Tome_I2_Part_8.txt',\n     'Bxl_1898_Tome_I2_Part_5.txt',\n     'Bxl_1899_Tome_I2_Part_4.txt',\n     'Bxl_1899_Tome_I2_Part_5.txt',\n     'Bxl_1899_Tome_I2_Part_6.txt',\n     'Lkn_1890_Tome_I_Part_5.txt',\n     'Lkn_1890_Tome_I_Part_6.txt',\n     'Lkn_1890_Tome_RptAn_Part_1.txt',\n     'Lkn_1890_Tome_RptAn_Part_2.txt',\n     'Lkn_1890_Tome_RptAn_Part_3.txt',\n     'Lkn_1890_Tome_RptAn_Part_4.txt',\n     'Lkn_1891_Tome_I_Part_3.txt',\n     'Lkn_1893_Tome_I_Part_5.txt',\n     'Lkn_1893_Tome_I_Part_6.txt',\n     'Lkn_1894_Tome_I_Part_4.txt',\n     'Lkn_1894_Tome_RptAn_Part_1.txt',\n     'Lkn_1894_Tome_RptAn_Part_2.txt',\n     'Lkn_1894_Tome_RptAn_Part_3.txt',\n     'Lkn_1894_Tome_RptAn_Part_4.txt',\n     'Lkn_1894_Tome_RptAn_Part_5.txt',\n     'Lkn_1894_Tome_RptAn_Part_6.txt',\n     'Lkn_1899_Tome_RptAn_Part_1.txt',\n     'Lkn_1899_Tome_RptAn_Part_2.txt',\n     'Lkn_1899_Tome_RptAn_Part_3.txt',\n     'Lkn_1899_Tome_RptAn_Part_5.txt'],\n 5: ['Bxl_1896_Tome_I1_1_Part_1.txt',\n     'Bxl_1896_Tome_I1_1_Part_2.txt',\n     'Bxl_1896_Tome_I1_1_Part_3.txt',\n     'Bxl_1896_Tome_I1_1_Part_4.txt',\n     'Bxl_1896_Tome_I1_1_Part_5.txt',\n     'Bxl_1896_Tome_I1_2_Part_1.txt',\n     'Bxl_1896_Tome_I1_2_Part_2.txt',\n     'Bxl_1896_Tome_I1_2_Part_3.txt',\n     'Bxl_1896_Tome_I1_2_Part_5.txt',\n     'Bxl_1896_Tome_I1_2_Part_6.txt',\n     'Bxl_1896_Tome_I2_1_Part_1.txt',\n     'Bxl_1896_Tome_I2_1_Part_2.txt',\n     'Bxl_1896_Tome_I2_1_Part_3.txt',\n     'Bxl_1896_Tome_I2_1_Part_4.txt',\n     'Bxl_1896_Tome_I2_1_Part_5.txt',\n     'Bxl_1896_Tome_I2_1_Part_6.txt',\n     'Bxl_1896_Tome_I2_1_Part_9.txt',\n     'Bxl_1896_Tome_I2_2_Part_1.txt',\n     'Bxl_1896_Tome_I2_2_Part_2.txt',\n     'Bxl_1896_Tome_I2_2_Part_4.txt',\n     'Bxl_1896_Tome_I2_2_Part_5.txt',\n     'Bxl_1896_Tome_I2_2_Part_6.txt',\n     'Bxl_1896_Tome_I2_2_Part_9.txt',\n     'Bxl_1897_Tome_I1_Part_1.txt',\n     'Bxl_1897_Tome_I1_Part_2.txt',\n     'Bxl_1897_Tome_I1_Part_3.txt',\n     'Bxl_1897_Tome_I1_Part_4.txt',\n     'Bxl_1897_Tome_I1_Part_5.txt',\n     'Bxl_1897_Tome_I1_Part_6.txt',\n     'Bxl_1897_Tome_I2_Part_1.txt',\n     'Bxl_1897_Tome_I2_Part_10.txt',\n     'Bxl_1897_Tome_I2_Part_11.txt',\n     'Bxl_1897_Tome_I2_Part_12.txt',\n     'Bxl_1897_Tome_I2_Part_13.txt',\n     'Bxl_1897_Tome_I2_Part_14.txt',\n     'Bxl_1897_Tome_I2_Part_17.txt',\n     'Bxl_1897_Tome_I2_Part_4.txt',\n     'Bxl_1897_Tome_I2_Part_5.txt',\n     'Bxl_1897_Tome_I2_Part_6.txt',\n     'Bxl_1897_Tome_I2_Part_9.txt',\n     'Bxl_1897_Tome_II1_Part_1.txt',\n     'Bxl_1897_Tome_II1_Part_2.txt',\n     'Bxl_1898_Tome_I1_Part_1.txt',\n     'Bxl_1898_Tome_I1_Part_11.txt',\n     'Bxl_1898_Tome_I1_Part_12.txt',\n     'Bxl_1898_Tome_I1_Part_2.txt',\n     'Bxl_1898_Tome_I1_Part_3.txt',\n     'Bxl_1898_Tome_I1_Part_4.txt',\n     'Bxl_1898_Tome_I1_Part_5.txt',\n     'Bxl_1898_Tome_I1_Part_6.txt',\n     'Bxl_1898_Tome_I1_Part_7.txt',\n     'Bxl_1898_Tome_I1_Part_8.txt',\n     'Bxl_1898_Tome_I2_Part_1.txt',\n     'Bxl_1898_Tome_I2_Part_4.txt',\n     'Bxl_1898_Tome_I2_Part_6.txt',\n     'Bxl_1898_Tome_I2_Part_7.txt',\n     'Bxl_1898_Tome_I2_Part_8.txt',\n     'Bxl_1898_Tome_II1_Part_1.txt',\n     'Bxl_1899_Tome_I2_Part_12.txt',\n     'Bxl_1899_Tome_I2_Part_2.txt']}\n"
     ]
    }
   ],
   "source": [
    "pprint(dict(clustering))"
   ]
  }
 ]
}
